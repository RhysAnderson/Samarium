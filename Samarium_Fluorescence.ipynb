{
 "cells": [
  {
   "cell_type": "markdown",
   "metadata": {},
   "source": [
    "# Samarium Fluorescence\n",
    "\n",
    "This notebook computes the expected fluorescence signal and Rabi frequency for the Samarium experiment given currently measured/assumed parameters. Parameters/formulae are generally chosen to be consistent with notation in the textbook 'Lasers' by Milonni and Eberly. Most expressions are from chapter 7."
   ]
  },
  {
   "cell_type": "code",
   "execution_count": 1,
   "metadata": {
    "collapsed": true
   },
   "outputs": [],
   "source": [
    "#Headers\n",
    "import numpy as np\n",
    "import matplotlib.pyplot as plt"
   ]
  },
  {
   "cell_type": "code",
   "execution_count": 2,
   "metadata": {
    "collapsed": true
   },
   "outputs": [],
   "source": [
    "#Functions\n",
    "def Lorentz(omega,omega_0,Gamma):\n",
    "    return 1/(np.pi * (Gamma/2)) * 1 / (1 + ((omega - omega_0)/(Gamma/2))**2)"
   ]
  },
  {
   "cell_type": "code",
   "execution_count": 3,
   "metadata": {
    "collapsed": true
   },
   "outputs": [],
   "source": [
    "#Constants\n",
    "c = 2.998E8 #Speed of light in m/s\n",
    "h = 6.626E-34 #Planck's constant in J/Hz\n",
    "NA = 6.022E23 #Avagadro's number\n",
    "e = 1.602E-19 #Electron charge in C\n",
    "\n",
    "cm = 1E-2 #m\n",
    "um = 1E-6 #m\n",
    "nm = 1E-9 #m\n",
    "ns = 1E-9 #s\n",
    "fs = 1E-15 #s\n",
    "uA = 1E-6 #A\n",
    "pA = 1E-12 #A\n",
    "mW = 1E-3 #W\n",
    "MHz = 1E6 #Hz\n",
    "GHz = 1E9 #Hz\n",
    "THz = 1E12 #Hz"
   ]
  },
  {
   "cell_type": "markdown",
   "metadata": {},
   "source": [
    "Measured optical properties of the beam and atom. Note that the atomic cross-section is not actually directly measured, because we do not take into account the linewidth of the laser: larger laser linewidths would result in smaller fractions of atoms transferred to the excited state, since less of the laser is resonant with the atom, leading to a smaller effective cross-section. It is better to just assume we measure a total excitation rate, and infer the cross-section from this, given knowledge of the laser linewidth. \n",
    "\n",
    "Even with an unfocussed beam, the inferred stimulated absorption rate is comparable to the excited state linewidth."
   ]
  },
  {
   "cell_type": "code",
   "execution_count": 32,
   "metadata": {},
   "outputs": [
    {
     "name": "stdout",
     "output_type": "stream",
     "text": [
      "Frequency is 438.035 THz.\n",
      "Clock transition vacuum wavelength is 684.420 nm.\n",
      "Intensity is 9690.575 mW/cm^2.\n",
      "Photon flux is 3.339e+19 photons/cm^2/s.\n",
      "Measured stimulated absorption rate is 43.404/s, or 0.531 excited state linewidths.\n"
     ]
    }
   ],
   "source": [
    "#Optical properties\n",
    "nu = 438.035 * THz #Centre of the inhomogeneous beam profile in Hz\n",
    "lam = c/nu / nm #Clock transition in nm (vacuum wavelength)\n",
    "P = 190 #Peak beam power after TA in mW\n",
    "w = 0.079 #Beam waist through crystal in cm (to be checked)\n",
    "I = P/np.pi/w**2 #Average intensity in mW/cm^2\n",
    "Phi = (I * mW)/(h * nu) #Average photon flux in photons/cm^2/s\n",
    "Gamma_L = 2 * np.pi * 300 #Measured Laser linewidth in 1/s\n",
    "Gamma_Ex = 2 * np.pi * 13 #Measured excited state linewidth in 1/s\n",
    "sigma = 1.3E-18 #Assumed atomic cross-section in cm^2 - We don't actually measure this! We just measure a stimulated absorption rate.\n",
    "R12 = 1.3E-18 * Phi #Measured stimulated absorption rate in 1/s. This is what we actually fit in a saturation curve.\n",
    "Eff = 0.5 * 0.01 #A guess for expected photodiode efficiency * collection efficiency.\n",
    "\n",
    "\n",
    "print(f'Frequency is {nu/THz:.3f} THz.')\n",
    "print(f'Clock transition vacuum wavelength is {lam:.3f} nm.')\n",
    "print(f'Intensity is {I:.3f} mW/cm^2.')\n",
    "print(f'Photon flux is {Phi:.3e} photons/cm^2/s.')\n",
    "print(f'Measured stimulated absorption rate is {R12:.3f}/s, or {R12/Gamma_Ex:.3f} excited state linewidths.')"
   ]
  },
  {
   "cell_type": "markdown",
   "metadata": {},
   "source": [
    "Properties of the crystal. We just treat the I=7/2 isotopes for now, assuming these are the ones that are inhomogeneously broadened. There must be an assumed value for the amount of homogeneous broadening of the transition: this amount should be greater than or equal to the excited state linewidth. It seems to need to be greater than the linewidth to be consistent with measurements."
   ]
  },
  {
   "cell_type": "code",
   "execution_count": 33,
   "metadata": {},
   "outputs": [
    {
     "name": "stdout",
     "output_type": "stream",
     "text": [
      "Average mass of Sm is 150.516 g/mol.\n",
      "Sm number density is 1.696e+18 atoms/cm^3.\n",
      "Number of I=7/2 isotopes in one beam volume is 9.579e+15 atoms.\n"
     ]
    }
   ],
   "source": [
    "#Crystal properties\n",
    "L = 1 #Length of the fluorescing region in cm\n",
    "rho_SrF2 = 4.24 #Density of SrF2 in g/cm^3 \n",
    "prop = 0.0001 #Sm fraction by weight\n",
    "m_Sm = np.array([143.912,146.915,147.915,148.917,149.917,151.912,153.922]) #Masses of Sm isotopes in g/mol\n",
    "mole_fraction = np.array([0.031,0.150,0.112,0.138,0.074,0.268,0.228]) #Fraction of each isotope in natural Sm\n",
    "m_Sm_av = np.sum(m_Sm * mole_fraction) #Averge mass of Sm in g/mol\n",
    "n_Sm = rho_SrF2 * prop / m_Sm_av * NA #Number density of Sm in the crystal in atoms/cm^3\n",
    "N_Inhom = (mole_fraction[1] + mole_fraction[3]) * n_Sm * L * np.pi * w**2 #Number of atoms with I = 7/2 in one beam volume\n",
    "Gamma_In = 2 * np.pi * 30 * GHz #Rough width of inhomogeneously broadening profile in 1/s\n",
    "Gamma_H = 1000 * Gamma_Ex #Assumed homogeneous broadening - this must be at least equal to the excited state linewidth\n",
    "\n",
    "print(f'Average mass of Sm is {m_Sm_av:.3f} g/mol.')\n",
    "print(f'Sm number density is {n_Sm:.3e} atoms/cm^3.')\n",
    "print(f'Number of I=7/2 isotopes in one beam volume is {N_Inhom:.3e} atoms.')"
   ]
  },
  {
   "cell_type": "markdown",
   "metadata": {},
   "source": [
    "Here we calculate expected fluorescence and Rabi frequency. Consider a laser with total photon flux $\\Phi_0$ and linewidth $\\Gamma_L$ (FWHM) centred at a frequency $\\omega_{c}$. Its photon flux per unit angular frequency $\\omega$ could be modelled as a Lorentzian given by\n",
    "$$\\Phi(\\omega - \\omega_c; \\Gamma_{L}) = \\frac{\\Phi_{0}}{\\pi}\\frac{\\Gamma_{L}/2}{\\left(\\omega - \\omega_{c}\\right)^{2} + \\left(\\Gamma_{L}/2\\right)^{2}} \\equiv \\Phi_{0} L(\\omega - \\omega_{c}; \\Gamma_{L})$$\n",
    "where $L(\\omega - \\omega_{c}; \\Gamma_{L})$ is shorthand for a normalized Lorentzian function. \n",
    "\n",
    "Similarly, an individual atom with resonance frequency $\\omega_0$ is broadened by its homogeneous linewidth $\\Gamma_{H}$. Usually, one quotes a resonant cross-section, which for a two-level atom comes out to $\\sigma_p = \\lambda^2/2\\pi$. However, for radiation incident off-resonance, the cross-section comes out to (check factors of 2)\n",
    "$$\\sigma(\\omega - \\omega_0; \\Gamma_{H}) =  \\sigma_p \\frac{\\pi \\Gamma_{H}}{2} L(\\omega - \\omega_{0}; \\Gamma_{H}) $$\n",
    "Note that this quantity still has units of area.\n",
    "\n",
    "Consider the laser incident on the atom. To find the total stimulated absorption rate, we should integrate over the frequency distribution of the intensity and multiply by the cross-section. Thus, we get\n",
    "$$R_{12}(\\omega_0) = \\int \\Phi(\\omega - \\omega_c; \\Gamma_{L}) \\sigma(\\omega - \\omega_0; \\Gamma_{H}) d\\omega $$\n",
    "Define $\\Delta = \\omega - \\omega_0$ as the detuning from atomic resonance, and $\\Delta_{L} = \\omega_c - \\omega_0$ as the laser detuning from resonance. Then, this can be recast as\n",
    "$$R_{12}(\\omega_0) = \\int \\Phi(\\Delta - \\Delta_{L}; \\Gamma_{L}) \\sigma(\\Delta; \\Gamma_{H}) d\\Delta$$\n",
    "which is a convolution between the laser lineshape and the atomic lineshape. \n",
    "\n",
    "In the case of the 3-level Samarium system, assuming that ${}^7F_{1}$ decays much faster than ${}^5D_{0}$, the equation for the likelihood to find the atom resonant at $\\omega_0$ in the excited state is given by\n",
    "$$P_{Ex}(\\omega_0) = \\frac{R_{12}(\\omega_0) / \\Gamma_{Ex}}{1 + 2 R_{12}(\\omega_0) / \\Gamma_{Ex}} $$\n",
    "\n",
    "Of course, in the SrF2 crystal, atoms have all sorts of resonant frequencies $\\omega_0$ due to inhomogeneous broadening. Given the observed fluorescence distribtuion, we can approximate this distribution of atoms as a Lorentzian centred at the frequency of peak fluorescence $\\omega_{In}$ with FWHM $\\Gamma_{In} = 2\\pi\\times30$ GHz as\n",
    "$$ n(\\omega_0) = (N_{147} + N_{149}) L(\\omega_{0} - \\omega_{In}; \\Gamma_{In}) $$.\n",
    "\n",
    "Therefore, we can get the total fluorescence rate $\\Gamma_{Sc}$ by integrating over all frequencies and weighting by the frequency of emitted fluorescent photons.\n",
    "$$ \\Gamma_{Sc} = \\Gamma_{Ex} \\int n(\\omega_0) P_{Ex}(\\omega_0) d\\omega_0 $$\n",
    "\n",
    "Finally, note that another expression for $P_{Ex}$ in terms of the Rabi frequency $\\Omega_0$ for a laser detuned from atomic resonance is\n",
    "$$P_{Ex}(\\Delta) = \\frac{\\Omega_0^2 \\Gamma_{H}/\\Gamma_{Ex}}{2\\Delta^{2} + 2\\Gamma_{H}^2 + 2\\Omega_0^2\\Gamma_{H}/\\Gamma_{Ex}} $$\n",
    "Comparison between the expressions suggests\n",
    "$$\\Omega_0 = \\sqrt{\\Gamma_H R_{12}}$$\n",
    "although, I should think about this more since this is for a monochromatic beam (i.e. $\\Gamma_{L} << \\Gamma_{H}$)."
   ]
  },
  {
   "cell_type": "code",
   "execution_count": 34,
   "metadata": {},
   "outputs": [
    {
     "name": "stdout",
     "output_type": "stream",
     "text": [
      "Fraction of atoms available in three laser linewidths is 8.467e-07.\n",
      "Peak fraction excited is 0.229.\n",
      "Calculated peak stimulated absorption rate is 0.422 excited state linewidths, compared to 0.531 measured.\n",
      "Peak Rabi frequency is 267.130 Hz.\n",
      "Fluorescence rate is 7.694e+10 /s.\n",
      "Expected current is 6.163e+01 pA.\n"
     ]
    }
   ],
   "source": [
    "#Modelling the fluorescence/Rabi frequency\n",
    "larger_line = np.max((Gamma_L,Gamma_H)) #Which is the limiting linewidth\n",
    "d_omega = larger_line / 100001 #Set the angular frequency spacing\n",
    "omega = np.arange(-3*Gamma_L/2, 3*Gamma_L/2, d_omega) #Relevant frequencies from laser beam in 1/s\n",
    "omega_0 = np.arange(-3*Gamma_H/2, 3*Gamma_H/2, d_omega) #Relevant frequencies for the atoms in 1/s. \n",
    "omega_tot = np.linspace(-3*Gamma_L/2 - 3*Gamma_H/2,3*Gamma_L/2 + 3*Gamma_H/2,num=(len(omega) + len(omega_0) - 1))\n",
    "\n",
    "Phi_omega = Phi * Lorentz(omega,0.0,Gamma_L) #Photon flux per unit frequency in photons/cm^s/s/(1/s)\n",
    "sigma_omega_0 = sigma * (np.pi * Gamma_H / 2.0) * Lorentz(omega_0,0.0,Gamma_H) #Frequency-dependent cross-section in cm^2.\n",
    "\n",
    "R_omega_0 = np.convolve(Phi_omega, sigma_omega_0, 'full') * d_omega #Stimulated absorption rate in photons/s/(1/s)\n",
    "\n",
    "N_Inhom_omega_0 = N_Inhom * Lorentz(omega_tot,0.0,Gamma_In) #Number of  atoms per frequency bin in atoms/(1/s) \n",
    "Frac_omega_0 = R_omega_0 / (Gamma_Ex + 2 * R_omega_0) #Fraction of atoms excited in each frequency bin\n",
    "\n",
    "Omega_0 = np.sqrt(np.max(R_omega_0) * Gamma_H) #The max Rabi frequency (angular) in rad/s\n",
    "Gamma_Sc = Gamma_Ex * np.sum(N_Inhom_omega_0 * d_omega * Frac_omega_0) #Integrate over the inhomogeneous lineshape to get scattering rate in 1/s\n",
    "\n",
    "print(f'Fraction of atoms available in three laser linewidths is {np.sum(N_Inhom_omega_0 * d_omega)/N_Inhom:.3e}.')\n",
    "print(f'Peak fraction excited is {np.max(Frac_omega_0):.3f}.')\n",
    "print(f'Calculated peak stimulated absorption rate is {np.max(R_omega_0)/Gamma_Ex:.3f} excited state linewidths, compared to {R12/Gamma_Ex:.3f} measured.')\n",
    "print(f'Peak Rabi frequency is {Omega_0/2/np.pi:.3f} Hz.')\n",
    "print(f'Fluorescence rate is {Gamma_Sc:.3e} /s.')\n",
    "print(f'Expected current is {Gamma_Sc * Eff * e / pA:.3e} pA.')"
   ]
  },
  {
   "cell_type": "code",
   "execution_count": null,
   "metadata": {
    "collapsed": true
   },
   "outputs": [],
   "source": []
  }
 ],
 "metadata": {
  "kernelspec": {
   "display_name": "Python 3",
   "language": "python",
   "name": "python3"
  },
  "language_info": {
   "codemirror_mode": {
    "name": "ipython",
    "version": 3
   },
   "file_extension": ".py",
   "mimetype": "text/x-python",
   "name": "python",
   "nbconvert_exporter": "python",
   "pygments_lexer": "ipython3",
   "version": "3.6.8"
  }
 },
 "nbformat": 4,
 "nbformat_minor": 2
}
